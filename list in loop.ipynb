{
 "cells": [
  {
   "cell_type": "code",
   "execution_count": null,
   "id": "3e52cd52",
   "metadata": {},
   "outputs": [],
   "source": []
  },
  {
   "cell_type": "raw",
   "id": "7a0dacf5",
   "metadata": {},
   "source": []
  },
  {
   "cell_type": "code",
   "execution_count": 10,
   "id": "b50162f4",
   "metadata": {},
   "outputs": [
    {
     "name": "stdout",
     "output_type": "stream",
     "text": [
      "enter city namekdkdkd\n",
      "no kdkdkd  ,not the clean city\n",
      "no kdkdkd  ,not the clean city\n",
      "no kdkdkd  ,not the clean city\n"
     ]
    }
   ],
   "source": [
    "cleanest_cities=[\"karachi\",\"hyderabad\",\"nawabsha\"]\n",
    "city=input(\"enter city name\")\n",
    "#i cleanest_city k braket k ander assing hokr ek ek kr k search krega or phr agay city se compare kr k agay result bhejega\n",
    "for i in cleanest_cities:\n",
    "    if city ==i:\n",
    "        print(city,\",yes it is the cleanest city\")\n",
    "        break\n",
    "    else: \n",
    "         print(\"no\",city,\" ,not the clean city\")\n",
    "     "
   ]
  },
  {
   "cell_type": "code",
   "execution_count": null,
   "id": "ff3c19c5",
   "metadata": {},
   "outputs": [],
   "source": []
  }
 ],
 "metadata": {
  "kernelspec": {
   "display_name": "Python 3 (ipykernel)",
   "language": "python",
   "name": "python3"
  },
  "language_info": {
   "codemirror_mode": {
    "name": "ipython",
    "version": 3
   },
   "file_extension": ".py",
   "mimetype": "text/x-python",
   "name": "python",
   "nbconvert_exporter": "python",
   "pygments_lexer": "ipython3",
   "version": "3.9.7"
  }
 },
 "nbformat": 4,
 "nbformat_minor": 5
}
